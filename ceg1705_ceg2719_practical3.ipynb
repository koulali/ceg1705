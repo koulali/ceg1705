{
 "cells": [
  {
   "cell_type": "markdown",
   "id": "b198799a",
   "metadata": {},
   "source": [
    "<img src=\"https://github.com/koulali/ceg1705/raw/main/ceg1705_logo_notebook.png\" width=\"1000\">\n",
    "\n",
    "\n",
    "# Practical 3 : Coordinate transformations\n",
    "\n",
    "The purpose of this  practical is to experiment with transformations between **different datums**, using **cartesian**, **ellipsoidal** and map projection coordinates. You will need to refer to your notes and handouts for some of the formulae. You are welcome to collaborate with a practical partner, but should do individual computations separately, and submit **individual notebooks**. Parts 1, 2 and 3 must be done in that order (Parts 2 and 3 are much quicker than Part 1).\n",
    "\n",
    "👇 Please, before you start run the following cell to load all the needed functions for this practical.\n"
   ]
  },
  {
   "cell_type": "code",
   "execution_count": null,
   "id": "868a14ba",
   "metadata": {},
   "outputs": [],
   "source": [
    "!pip install osgb\n",
    "!pip install pycegm"
   ]
  },
  {
   "cell_type": "code",
   "execution_count": null,
   "id": "bf71b9f2",
   "metadata": {},
   "outputs": [],
   "source": [
    "# here we load all the modules and functions you need\n",
    "import numpy as np\n",
    "import json\n",
    "from osgb import ll_to_grid,grid_to_ll\n",
    "from numpy import radians,degrees\n",
    "from pycegm import units,coords,display"
   ]
  },
  {
   "cell_type": "markdown",
   "id": "308111b0-c7fa-4bf9-8aaa-c56f4bf22c11",
   "metadata": {},
   "source": [
    "## Part 1.  3-D Helmert (7-parameter) transformations\n",
    "\n",
    "In this part, you will convert **ellipsoidal coordinates** on the **WGS-84 datum** (as read from a GPS receiver) into **cartesian coordinates**, then transform these into coordinates on the **OSGB36 datum** (as used for most UK maps). Finally you will express your **OSGB36** coordinates in ellipsoidal form, and project them onto the UK National Grid. Recall this flowchart from **lecture 14**\n",
    "\n",
    "<img src=\"https://github.com/koulali/ceg1705/blob/main/prac3_fig1.png?raw=true\" width=\"1100\">\n",
    "\n",
    "Everyone has the same WGS-84 coordinates for Points A and B, but C is defined using your birthdate.\n",
    "\n",
    "\n",
    "| Point A     |             |\n",
    "| --------------- | --------------- |\n",
    "| Latitude $\\phi$   | 50$^{\\circ}$ 30' 42\".0000   N  |\n",
    "| Longitude $\\lambda$  | $3^{\\circ}$ 59' 59\".00000 W\t        |\n",
    "| Height    $h$  | 0.0 m        |\n",
    "\n",
    "| Point B     |             |\n",
    "| --------------- | --------------- |\n",
    "| Latitude $\\phi$   | 58$^{\\circ}$ 13' 43\".49422\tN   |\n",
    "| Longitude $\\lambda$  | $4^{\\circ}$ 59' 00\".03858 W\t        |\n",
    "| Height    $h$  | 0.0 m     \n",
    "\n",
    "| Point C     |             |\n",
    "| --------------- | --------------- |\n",
    "| Latitude $\\phi$   | 50$^{\\circ}$ 28' MM\".00000  N   |\n",
    "| Longitude $\\lambda$  | $3^{\\circ}$ 55' DD\".00000 W\t        |\n",
    "| Height    $h$  | 0.0 m     \n",
    "\n",
    "\n",
    "\n",
    "> **where MM and DD are the month and day on which you were born (eg 10 and 03 for October 3rd).**\n",
    "\n",
    "\n",
    "### (a) Ellipsoidal to Cartesian conversion\n",
    "\n",
    "Cartesian WGS-84 coordinates of the point.  Note these down on your answer sheet.\n",
    "\n",
    "\n",
    "> Make sure you use the WGS-84 ellipsoid parameters:  a = 6378137.000 m, b = 6356752.314 m\n",
    "\n",
    "\n",
    "N.B \n",
    "\n",
    "- Cells with \"👇 ✍🏻\" indicate that you have to input your answer in the following cell.\n",
    "- Cells with \"✏️ Your answer here\" where you must write your comments.\n",
    "\n",
    "#### **Step 1 :Input coordinates (\"start here\" in the chart)**\n",
    "\n",
    "We define the Earth radius in kilometers 👇 ✍🏻 "
   ]
  },
  {
   "cell_type": "code",
   "execution_count": null,
   "id": "fd9ad27c",
   "metadata": {},
   "outputs": [],
   "source": [
    "R = ..."
   ]
  },
  {
   "cell_type": "markdown",
   "id": "c4a4fc28",
   "metadata": {},
   "source": [
    "We set the ellipsoid parameters 👇 ✍🏻 "
   ]
  },
  {
   "cell_type": "code",
   "execution_count": null,
   "id": "c1674cec",
   "metadata": {},
   "outputs": [],
   "source": [
    "a = ...\n",
    "b = ..."
   ]
  },
  {
   "cell_type": "markdown",
   "id": "c4201f9b",
   "metadata": {},
   "source": [
    "Let's define the coordinates of point **A** first."
   ]
  },
  {
   "cell_type": "code",
   "execution_count": null,
   "id": "ded35046",
   "metadata": {},
   "outputs": [],
   "source": [
    "# latitude of point A\n",
    "phi_A = {\"deg\":...,\n",
    "         \"min\":...,\n",
    "         \"sec\":...,  \n",
    "         \"dir\":\"N\"}\n",
    "\n",
    "# longitude of point A\n",
    "lambda_A = {\"deg\":...,\n",
    "            \"min\":...,\n",
    "            \"sec\":...,  \n",
    "            \"dir\":\"W\"}\n",
    "\n",
    "# height of point A\n",
    "h_A = 0.0"
   ]
  },
  {
   "cell_type": "markdown",
   "id": "2562d03c",
   "metadata": {},
   "source": [
    "Here, I prepared for you a function which converts lat/lon cooridnates to cartesian XYZ. For details refer to **practical 2b**. All you have to do is run the following 2 cells. The first does the conversion and the second displays the results"
   ]
  },
  {
   "cell_type": "code",
   "execution_count": null,
   "id": "e4adb5a0",
   "metadata": {},
   "outputs": [],
   "source": [
    "X_A,Y_A,Z_A = coords.llh_to_xyz(phi_A,lambda_A,h_A,a,b)"
   ]
  },
  {
   "cell_type": "code",
   "execution_count": null,
   "id": "9b123b10",
   "metadata": {},
   "outputs": [],
   "source": [
    "display.print_xyz(X_A,Y_A,Z_A,\"Cartesian WGS-84 coordinates of point A\")"
   ]
  },
  {
   "cell_type": "markdown",
   "id": "7735fe77",
   "metadata": {},
   "source": [
    "#### Step 2:\n",
    "\n",
    "Now your turn, repeat step 1 but for the coordinates B and C.\n",
    "\n",
    "**B point** 👇 ✍🏻 "
   ]
  },
  {
   "cell_type": "code",
   "execution_count": null,
   "id": "c27b0648",
   "metadata": {},
   "outputs": [],
   "source": [
    "phi_B = {\"deg\":...,\n",
    "         \"min\":...,\n",
    "         \"sec\":...,  \n",
    "         \"dir\":\"N\"\n",
    "        }\n",
    "\n",
    "lambda_B = {\"deg\":...,\n",
    "            \"min\":...,\n",
    "            \"sec\":...,  \n",
    "            \"dir\":\"W\"}\n",
    "\n",
    "h_B = 0.0"
   ]
  },
  {
   "cell_type": "code",
   "execution_count": null,
   "id": "07e18978",
   "metadata": {},
   "outputs": [],
   "source": [
    "X_B,Y_B,Z_B = coords.llh_to_xyz(phi_B,lambda_B,h_B,a,b)"
   ]
  },
  {
   "cell_type": "code",
   "execution_count": null,
   "id": "e4195406",
   "metadata": {},
   "outputs": [],
   "source": [
    "display.print_xyz(X_B,Y_B,Z_B,\"Cartesian WGS-84 coordinates of point B\")"
   ]
  },
  {
   "cell_type": "markdown",
   "id": "1829a298",
   "metadata": {},
   "source": [
    "**C point** 👇 ✍🏻 "
   ]
  },
  {
   "cell_type": "code",
   "execution_count": null,
   "id": "b40fe076",
   "metadata": {},
   "outputs": [],
   "source": [
    "phi_C = {\"deg\":...,\n",
    "         \"min\":...,\n",
    "         \"sec\":...,  \n",
    "         \"dir\":\"N\"\n",
    "        }\n",
    "\n",
    "lambda_C = {\"deg\":3,\n",
    "            \"min\":55,\n",
    "            \"sec\":20,  \n",
    "            \"dir\":\"W\"}\n",
    "\n",
    "h_C = 0.0"
   ]
  },
  {
   "cell_type": "code",
   "execution_count": null,
   "id": "2471f22d",
   "metadata": {},
   "outputs": [],
   "source": [
    "X_C,Y_C,Z_C = coords.llh_to_xyz(phi_C,lambda_C,h_C,a,b)"
   ]
  },
  {
   "cell_type": "code",
   "execution_count": null,
   "id": "060c90a4",
   "metadata": {},
   "outputs": [],
   "source": [
    "display.print_xyz(X_C,Y_C,Z_C,\"Cartesian WGS-84 coordinates of point C\")"
   ]
  },
  {
   "cell_type": "markdown",
   "id": "8685d3f0",
   "metadata": {},
   "source": [
    "### (b) Helmert transformation\n",
    "\n",
    "In order to perform the Helmert transformation, you need  first to find the parameters of the Helmert transformation linking WGS-84 and OSGB36.  These are available in Section 6.6 of the OS document [A guide to coordinate systems in Great Britain](https://www.ordnancesurvey.co.uk/documents/resources/guide-coordinate-systems-great-britain.pdf).\n",
    "\n",
    "Enter the values of **Tx, Ty, Tz, Rx, Ry, Rz and s** in the cell below. \n",
    "\n",
    "\n",
    "> Rx, Ry, Rz were called $\\theta_x$, $\\theta_y$, $\\theta_z$ in lecture 14.\n",
    "\n",
    "\n",
    "Helmert parameter 👇 ✍🏻 "
   ]
  },
  {
   "cell_type": "code",
   "execution_count": null,
   "id": "3f1c3a54",
   "metadata": {},
   "outputs": [],
   "source": [
    "# 3 translations, 3 rotations and 1 scale\n",
    "Tx = ...\n",
    "Ty = ...\n",
    "Tz = ...\n",
    "Rotx = ...\n",
    "Roty = ...\n",
    "Rotz = ...\n",
    "scale  = ..."
   ]
  },
  {
   "cell_type": "markdown",
   "id": "26cc00df",
   "metadata": {},
   "source": [
    "Rotations `Rotx`, `Roty`, and `Rotz` variables are seconds, so you need to convert to decimal degrees. The new rotation variables will be named `Rx,Ry and Ry` (next cell)\n",
    "\n",
    "👇 ✍🏻"
   ]
  },
  {
   "cell_type": "code",
   "execution_count": null,
   "id": "c37765c5",
   "metadata": {},
   "outputs": [],
   "source": [
    "Rx = ...\n",
    "Ry = ...\n",
    "Rz = ..."
   ]
  },
  {
   "cell_type": "markdown",
   "id": "c9d7634c",
   "metadata": {},
   "source": [
    "The OS scale is in parts per million, so you need to multiply its value by $10^{-6}$ (in python `1e-6`) when using it in the transformation matrix. We create a new variable `s` to be the converted scale.\n",
    "\n",
    "\n",
    "👇 ✍🏻"
   ]
  },
  {
   "cell_type": "code",
   "execution_count": null,
   "id": "74bdc9fa",
   "metadata": {},
   "outputs": [],
   "source": [
    "s = ..."
   ]
  },
  {
   "cell_type": "markdown",
   "id": "a0c4f468",
   "metadata": {},
   "source": [
    "Now we need to construct the matrix R (cf. Lecture notes). Please refer to Tutorial 2 in canvas for an introduction to matrix and array computations in python.\n",
    "\n",
    "**to define rotation matrix $R$ and the position array $p=(X,Y,Z)$**. Replace `...` with each element of the matrix R as in your lecture notes.\n",
    "\n",
    "👇 ✍🏻"
   ]
  },
  {
   "cell_type": "code",
   "execution_count": null,
   "id": "5d7a9a46",
   "metadata": {},
   "outputs": [],
   "source": [
    "# rotation matrix\n",
    "R = np.array([[...,...,...],\n",
    "              [...,...,...],\n",
    "              [...,...,...]])"
   ]
  },
  {
   "cell_type": "markdown",
   "id": "5043b7a9",
   "metadata": {},
   "source": [
    "Now Let's define the cartesian coordinates (X,Y,Z) arrays for points A,B and C (in mumpy format). Each array will contain 2 inputs as for X, Y and Z\n",
    "\n",
    "👇 ✍🏻"
   ]
  },
  {
   "cell_type": "code",
   "execution_count": null,
   "id": "3112d87d",
   "metadata": {},
   "outputs": [],
   "source": [
    "# A point\n",
    "A = np.array([X_A,Y_A,Z_A])\n",
    "\n",
    "# B point\n",
    "B = np.array([X_B,Y_B,Z_B])\n",
    "\n",
    "# C point\n",
    "C = np.array([X_C,Y_C,Z_C])"
   ]
  },
  {
   "cell_type": "markdown",
   "id": "c4f42293",
   "metadata": {},
   "source": [
    "The final Cartesian OSGB36 coordinates are given by the results of your matrix multiplication $R\\cdot p$, plus the appropriate translation parameters $[T_x,T_y,T_z]$.\n",
    "\n",
    "An example of this operation for point D with coordinates array:\n",
    "\n",
    "```\n",
    "X,Y,Z = R.dot(D) + np.array([Tx,Ty,Tz])\n",
    "```\n",
    "\n",
    "\n",
    "👇 ✍🏻"
   ]
  },
  {
   "cell_type": "code",
   "execution_count": null,
   "id": "8072fcf0",
   "metadata": {},
   "outputs": [],
   "source": [
    "# A point\n",
    "X_A_osgb,Y_A_osgb,Z_A_osgb = ...\n",
    "\n",
    "# B point\n",
    "X_B_osgb,Y_B_osgb,Z_B_osgb = ...\n",
    "\n",
    "# C point\n",
    "X_C_osgb,Y_C_osgb,Z_C_osgb = ..."
   ]
  },
  {
   "cell_type": "code",
   "execution_count": null,
   "id": "623476d2",
   "metadata": {},
   "outputs": [],
   "source": [
    "display.print_xyz(X_A_osgb,Y_A_osgb,Z_A_osgb,\"Cartesian OSGB36 coordinates of point A\")\n",
    "display.print_xyz(X_B_osgb,Y_B_osgb,Z_B_osgb,\"Cartesian OSGB36 coordinates of point B\")\n",
    "display.print_xyz(X_C_osgb,Y_C_osgb,Z_C_osgb,\"Cartesian OSGB36 coordinates of point C\")"
   ]
  },
  {
   "cell_type": "markdown",
   "id": "1e34b394",
   "metadata": {},
   "source": [
    "### (c) Cartesian to Ellipsoidal conversion\n",
    "\n",
    "Now we need to convert the OSGB36 Cartesian coordinates to obtain OSGB36 ellipsoidal coordinates of the point, using the Airy ellipsoid. \n",
    "\n",
    "**The Airy ellipsoid parameters:**\n",
    "\n",
    "a = 6 377 563.396 m\n",
    "\n",
    "b = 6 356 256.910 m\n",
    "\n",
    "This is similar to what you did in practical 1. I prepared for you a function which does this as follows:\n",
    "\n",
    "```\n",
    "phi,lambda,h = coords.xyz_to_llh(X,Y,Z,a,b)\n",
    "```\n",
    "\n",
    "where X,Y,Z are the cartesian input coordinates and the phi,lambda,h are the output ellipsoidal coordinates.\n",
    "\n",
    "\n",
    "We first define the Airy ellipsoidal parameters a and b\n",
    "\n",
    "👇 ✍🏻"
   ]
  },
  {
   "cell_type": "code",
   "execution_count": null,
   "id": "9fa36a8b",
   "metadata": {},
   "outputs": [],
   "source": [
    "a = ...\n",
    "b = ..."
   ]
  },
  {
   "cell_type": "markdown",
   "id": "43e00a9f",
   "metadata": {},
   "source": [
    "Now do the conversion using the function `xyz_to_llh`. An example for using this function:\n",
    "\n",
    "```\n",
    "phi_D_osgb,lambda_D_osgb,h_D_osgb = coords.xyz_to_llh(X_D_osgb,Y_D_osgb,Z_D_osgb,a,b)\n",
    "```\n",
    "\n",
    "where the function takes as input the coordinates X,Y,Z and the ellipsoidal parameters a and b\n",
    "\n",
    "👇 ✍🏻"
   ]
  },
  {
   "cell_type": "code",
   "execution_count": null,
   "id": "65e8515a",
   "metadata": {},
   "outputs": [],
   "source": [
    "phi_A_osgb,lambda_A_osgb,h_A_osgb = ...\n",
    "phi_B_osgb,lambda_B_osgb,h_B_osgb = ...\n",
    "phi_C_osgb,lambda_C_osgb,h_C_osgb = ..."
   ]
  },
  {
   "cell_type": "code",
   "execution_count": null,
   "id": "49eb1722",
   "metadata": {},
   "outputs": [],
   "source": [
    "#--- A\n",
    "display.print_xyz(json.dumps(phi_A_osgb,indent=4, default=str),\n",
    "             json.dumps(lambda_A_osgb,indent=4, default=str),\n",
    "             json.dumps(h_A_osgb,indent=4,default=str),\n",
    "             \"Ellipsoidal OSGB36 coordinates of point A\",type=\"ll\")\n",
    "\n",
    "\n",
    "#--- B\n",
    "display.print_xyz(json.dumps(phi_B_osgb,indent=4, default=str),\n",
    "             json.dumps(lambda_B_osgb,indent=4, default=str),\n",
    "             json.dumps(h_B_osgb,indent=4,default=str),\n",
    "             \"Ellipsoidal OSGB36 coordinates of point B\",type=\"ll\")\n",
    "\n",
    "\n",
    "#--- C\n",
    "display.print_xyz(json.dumps(phi_C_osgb,indent=4, default=str),\n",
    "             json.dumps(lambda_C_osgb,indent=4, default=str),\n",
    "             json.dumps(h_C_osgb,indent=4,default=str),\n",
    "             \"Ellipsoidal OSGB36 coordinates of point C\",type=\"ll\")"
   ]
  },
  {
   "cell_type": "markdown",
   "id": "bee5d5f5",
   "metadata": {},
   "source": [
    "### (d) Map projection (OSGB36) coordinates\n",
    "\n",
    "Here, we project OSGB36 Airy ellipsoid coordinates onto the National Grid (it can also be modified to use other Transverse Mercator projections such as UTM). We need to obtain OSGB36 National Grid coordinates (**eastings and northings**). For this projection we will use the function `ll_to_os`.\n",
    "\n",
    "Again, to call the `ll_to_os` function we simply do:\n",
    "\n",
    "```\n",
    "    easting,northing = coords.ll_to_grid(lat,lon)\n",
    "```\n",
    "\n",
    "Let's first convert OSGB36 ellipsoidal coordinates to decimal degrees.The variables in decimal degrees will be named using this schema: `phi_{point name}_osgb_dec` \n",
    "\n",
    "Run the cell below"
   ]
  },
  {
   "cell_type": "code",
   "execution_count": null,
   "id": "9e708126",
   "metadata": {},
   "outputs": [],
   "source": [
    "# A point\n",
    "phi_A_osgb_dec    = units.dms_to_decimal(phi_A_osgb)\n",
    "lambda_A_osgb_dec = units.dms_to_decimal(lambda_A_osgb)\n",
    "\n",
    "# B point\n",
    "phi_B_osgb_dec    = units.dms_to_decimal(phi_B_osgb)\n",
    "lambda_B_osgb_dec = units.dms_to_decimal(lambda_B_osgb)\n",
    "\n",
    "# C point\n",
    "phi_C_osgb_dec    = units.dms_to_decimal(phi_C_osgb)\n",
    "lambda_C_osgb_dec = units.dms_to_decimal(lambda_C_osgb)"
   ]
  },
  {
   "cell_type": "markdown",
   "id": "a0b65bae",
   "metadata": {},
   "source": [
    "You can now convert the OSGB36 latitude,longitude [decimal degrees] to easting and northing\n",
    "\n",
    "👇 ✍🏻"
   ]
  },
  {
   "cell_type": "code",
   "execution_count": null,
   "id": "0a7be8e3",
   "metadata": {},
   "outputs": [],
   "source": [
    "easting_A, northing_A = ...\n",
    "easting_B, northing_B = ...\n",
    "easting_C, northing_C = ..."
   ]
  },
  {
   "cell_type": "code",
   "execution_count": null,
   "id": "a4e45d51",
   "metadata": {},
   "outputs": [],
   "source": [
    "# DO NOT MODIFY THIS CELL\n",
    "display.print_xyz(easting_A,northing_A,h_A_osgb,\"Local E,N OSGB36 coordinates of point A\",type=\"en\")\n",
    "display.print_xyz(easting_B,northing_B,h_B_osgb,\"Local E,N OSGB36 coordinates of point B\",type=\"en\")\n",
    "display.print_xyz(easting_C,northing_C,h_C_osgb,\"Local E,N OSGB36 coordinates of point C\",type=\"en\")"
   ]
  },
  {
   "cell_type": "markdown",
   "id": "6f0085e5",
   "metadata": {},
   "source": [
    "## **We reached the end of the chart**\n",
    "\n",
    "\n",
    "You have now the eastings and northings for Points B and C, compute the **baseline vector from Point A to them** (the difference in eastings and northings between Points B/C and Point A).\n",
    "\n",
    "<img src=\"https://github.com/koulali/ceg1705/blob/main/prac3_fig2.png?raw=true\" width=\"600\">\n",
    "\n",
    "Baseline vector $\\Delta AB$\n",
    "\n",
    "👇 ✍🏻"
   ]
  },
  {
   "cell_type": "code",
   "execution_count": null,
   "id": "c2f27081",
   "metadata": {},
   "outputs": [],
   "source": [
    "Delta_easting_AB  = ...\n",
    "Delta_northing_AB = ...\n",
    "Delta_h_AB = ..."
   ]
  },
  {
   "cell_type": "code",
   "execution_count": null,
   "id": "dc65a54e",
   "metadata": {},
   "outputs": [],
   "source": [
    "# DO NOT MODIFY THIS CELL\n",
    "display.print_xyz(Delta_easting_AB,Delta_northing_AB,Delta_h_AB,\"Relative OSGB36 coords baseline A→B:\",type=\"ba\")"
   ]
  },
  {
   "cell_type": "markdown",
   "id": "dbaece4e",
   "metadata": {},
   "source": [
    "Baseline vector $\\Delta AC$\n",
    "\n",
    "👇 ✍🏻"
   ]
  },
  {
   "cell_type": "code",
   "execution_count": null,
   "id": "3ca85124",
   "metadata": {},
   "outputs": [],
   "source": [
    "Delta_easting_AC  = ...\n",
    "Delta_northing_AC = ...\n",
    "Delta_h_AC = ..."
   ]
  },
  {
   "cell_type": "code",
   "execution_count": null,
   "id": "31257245",
   "metadata": {},
   "outputs": [],
   "source": [
    "# DO NOT MODIFY THIS CELL\n",
    "display.print_xyz(Delta_easting_AC,Delta_northing_AC,Delta_h_AC,\"Relative OSGB36 coords baseline A→C:\",type=\"ba\")"
   ]
  },
  {
   "cell_type": "markdown",
   "id": "5e9c322b",
   "metadata": {},
   "source": [
    "\n",
    "> What do you notice about the apparent E/W position of A and B as described by their WGS-84 and OSGB36 longitudes, and OSGB36 easting?  Why do these change?\n"
   ]
  },
  {
   "cell_type": "markdown",
   "id": "ce80d1f9",
   "metadata": {},
   "source": [
    "✏️ **Your answer here**\n",
    "\n",
    "...\n",
    "\n",
    "...\n",
    "\n",
    "...\n",
    "\n",
    "..."
   ]
  },
  {
   "cell_type": "markdown",
   "id": "eaa5cec1",
   "metadata": {},
   "source": [
    "---\n",
    "\n",
    "## Part 2.  Simpler 3-D transformations\n",
    "\n",
    "In this part, you will estimate the parameters of a simpler transformation that might be of use to navigators near Point A.  Using Points B and C, you will then be able to compare with the results from Part 1 to test the validity of this simpler transformation near to Point A and further away.\n",
    "\n",
    "### Step 1\n",
    "\n",
    "By comparing the Cartesian coordinates of Point A in the WGS-84 and OSGB36 datums, deduce the translation parameters (Tx, Ty, Tz) that should be added to Point A’s Cartesian WGS-84 coordinates in order to transform them to OSGB36, if the scale and rotation parameters were set to zero (i.e. not used). We call the new translation parameters here `Tnx,Tny and Tnz`\n",
    "\n",
    "\n",
    "👇 ✍🏻"
   ]
  },
  {
   "cell_type": "code",
   "execution_count": null,
   "id": "f5648c08",
   "metadata": {},
   "outputs": [],
   "source": [
    "Tnx = ...\n",
    "Tny = ...\n",
    "Tnz = ..."
   ]
  },
  {
   "cell_type": "code",
   "execution_count": null,
   "id": "6379ffa9",
   "metadata": {},
   "outputs": [],
   "source": [
    "# DO NOT MODIFY THIS CELL\n",
    "display.print_xyz(Tnx,Tny,Tnz,\"Translation-only Helmert parameters using point A:\",type=\"ba\")"
   ]
  },
  {
   "cell_type": "markdown",
   "id": "30c68ec6",
   "metadata": {},
   "source": [
    "### Step 2\n",
    "Use these translation parameters (setting scale and rotation to zero) to transform Points B and C’s WGS-84 Cartesian coordinates into OSGB36.\n",
    "\n",
    "\n",
    "- Calculate Point B cartesian coordinates:\n",
    "\n",
    "👇 ✍🏻 "
   ]
  },
  {
   "cell_type": "code",
   "execution_count": null,
   "id": "d6e71e08",
   "metadata": {},
   "outputs": [],
   "source": [
    "X_B_osgb_tr = ...\n",
    "Y_B_osgb_tr = ...\n",
    "Z_B_osgb_tr = ..."
   ]
  },
  {
   "cell_type": "markdown",
   "id": "a33f9200",
   "metadata": {},
   "source": [
    "- Calculate Point C cartesian coordinates: \n",
    "\n",
    "👇 ✍🏻 "
   ]
  },
  {
   "cell_type": "code",
   "execution_count": null,
   "id": "774c6b24",
   "metadata": {},
   "outputs": [],
   "source": [
    "X_C_osgb_tr = ...\n",
    "Y_C_osgb_tr = ...\n",
    "Z_C_osgb_tr = ..."
   ]
  },
  {
   "cell_type": "code",
   "execution_count": null,
   "id": "ad6c0da3",
   "metadata": {},
   "outputs": [],
   "source": [
    "# DO NOT MODIFY THIS CELL\n",
    "display.print_xyz(X_B_osgb_tr,Y_B_osgb_tr,Z_B_osgb_tr,\"Cartesian OSGB36 coords point B:\",type=\"xyz\")\n",
    "display.print_xyz(X_C_osgb_tr,Y_C_osgb_tr,Z_C_osgb_tr,\"Cartesian OSGB36 coords point C:\",type=\"xyz\")"
   ]
  },
  {
   "cell_type": "markdown",
   "id": "e2c02b2b",
   "metadata": {},
   "source": [
    "**Thence calculate National Grid OSGB36 coordinates for these points**. To do this, we need first to calculate the ellipsoidal coordinates in OSGB36 for the newly translated points.\n",
    "\n",
    "\n",
    "Ellipsoidal coordinates for Point B (`X_B_osgb_tr`) first\n",
    "\n",
    "👇 ✍🏻 "
   ]
  },
  {
   "cell_type": "code",
   "execution_count": null,
   "id": "2aa6dc51",
   "metadata": {},
   "outputs": [],
   "source": [
    "# First convert to lat,lon \n",
    "# Point B\n",
    "phi_B_osgb_tr,lambda_B_osgb_tr,h_B_osgb_tr = ..."
   ]
  },
  {
   "cell_type": "markdown",
   "id": "77c45700",
   "metadata": {},
   "source": [
    "Then, Ellipsoidal coordinates for Point C (`X_C_osgb_tr`)\n",
    "\n",
    "👇 ✍🏻 "
   ]
  },
  {
   "cell_type": "code",
   "execution_count": null,
   "id": "69b63e24",
   "metadata": {},
   "outputs": [],
   "source": [
    "# First convert to lat,lon \n",
    "# Point B\n",
    "phi_C_osgb_tr,lambda_C_osgb_tr,h_C_osgb_tr = ..."
   ]
  },
  {
   "cell_type": "code",
   "execution_count": null,
   "id": "508e6a2f",
   "metadata": {},
   "outputs": [],
   "source": [
    "# DO NOT MODIFY THIS CELL\n",
    "display.print_xyz(phi_B_osgb_tr,lambda_B_osgb_tr,h_B_osgb_tr,\"OSGB36 ellipsoidal coords point B:\",type=\"ll\")\n",
    "display.print_xyz(phi_C_osgb_tr,lambda_C_osgb_tr,h_C_osgb_tr,\"OSGB36 ellipsoidal coords point C:\",type=\"ll\")"
   ]
  },
  {
   "cell_type": "code",
   "execution_count": null,
   "id": "9ed4ec91",
   "metadata": {},
   "outputs": [],
   "source": [
    "# convert to decimal coordinates\n",
    "\n",
    "# B point\n",
    "phi_B_osgb_tr_dec    = units.dms_to_decimal(phi_B_osgb_tr)\n",
    "lambda_B_osgb_tr_dec = units.dms_to_decimal(lambda_B_osgb_tr)\n",
    "\n",
    "\n",
    "# C point\n",
    "phi_C_osgb_tr_dec    = units.dms_to_decimal(phi_C_osgb_tr)\n",
    "lambda_C_osgb_tr_dec = units.dms_to_decimal(lambda_C_osgb_tr)"
   ]
  },
  {
   "cell_type": "markdown",
   "id": "76d4fd5b",
   "metadata": {},
   "source": [
    "Now apply the function `ll_to_grid` to get the northing and the easting\n",
    "\n",
    "\n",
    "👇 ✍🏻"
   ]
  },
  {
   "cell_type": "code",
   "execution_count": null,
   "id": "07fe814d",
   "metadata": {},
   "outputs": [],
   "source": [
    "# Caculate National grid coordinates\n",
    "easting_B_tr, northing_B_tr = ...\n",
    "easting_C_tr, northing_C_tr = ..."
   ]
  },
  {
   "cell_type": "code",
   "execution_count": null,
   "id": "e5952c32",
   "metadata": {},
   "outputs": [],
   "source": [
    "# DO NOT MODIFY THIS CELL\n",
    "display.print_xyz(easting_B_tr, northing_B_tr,h_B_osgb_tr,\"Projection OSGB36 coords point B:\",type=\"ll\")\n",
    "display.print_xyz(easting_B_tr, northing_B_tr,h_C_osgb_tr,\"Projection OSGB36 coords point C:\",type=\"ll\")"
   ]
  },
  {
   "cell_type": "markdown",
   "id": "0ebddaa8",
   "metadata": {},
   "source": [
    "### Step 3\n",
    "\n",
    "By how much do these (presumably somewhat less accurate) grid coordinates for Points B and C differ from the answers in Part 1?\n",
    "\n",
    "Difference in coordinates $\\delta B$ (easting,northing and height). We call this variables `diff_{E,N,h}_B`\n",
    "\n",
    "👇 ✍🏻"
   ]
  },
  {
   "cell_type": "code",
   "execution_count": null,
   "id": "c03a4934",
   "metadata": {},
   "outputs": [],
   "source": [
    "diff_E_B = ...\n",
    "diff_N_B = ...\n",
    "diff_h_B = ..."
   ]
  },
  {
   "cell_type": "code",
   "execution_count": null,
   "id": "18e06778",
   "metadata": {},
   "outputs": [],
   "source": [
    "# DO NOT MODIFY THIS CELL\n",
    "display.print_xyz(diff_E_B, diff_N_B,diff_h_B,\"Differences in OSGB36 coords, with respect to Part 1, Point B\",type=\"dif\")"
   ]
  },
  {
   "cell_type": "markdown",
   "id": "7438c0c2",
   "metadata": {},
   "source": [
    "Difference in coordinates $\\delta C$\n",
    "\n",
    "👇 ✍🏻"
   ]
  },
  {
   "cell_type": "code",
   "execution_count": null,
   "id": "498fadeb",
   "metadata": {},
   "outputs": [],
   "source": [
    "diff_E_C = ...\n",
    "diff_N_C = ...\n",
    "diff_h_C = ..."
   ]
  },
  {
   "cell_type": "code",
   "execution_count": null,
   "id": "f4fc5146",
   "metadata": {},
   "outputs": [],
   "source": [
    "# DO NOT MODIFY THIS CELL\n",
    "display.print_xyz(diff_E_C, diff_N_C,diff_h_C,\"Differences in OSGB36 coords, with respect to Part 1, Point C\",type=\"dif\")"
   ]
  },
  {
   "cell_type": "markdown",
   "id": "18613d52",
   "metadata": {},
   "source": [
    "\n",
    "> **How do these differences compare with the precision of various GPS techniques?**\n"
   ]
  },
  {
   "cell_type": "markdown",
   "id": "848a4cb6",
   "metadata": {},
   "source": [
    "✏️ **Your answer here**\n",
    "\n",
    "\n",
    "...\n",
    "\n",
    "...\n",
    "\n",
    "...\n",
    "\n",
    "..."
   ]
  },
  {
   "cell_type": "markdown",
   "id": "c5f424a8",
   "metadata": {},
   "source": [
    "---\n",
    "\n",
    "## Part 3.  The OSTN15 transformation\n",
    "\n",
    "The OS provide a precise transformation (in fact definitive, and good to ~20 cm in plan and ~2 cm in height compared with old mapping) which takes into account the distortions in the making of OSGB36.  One way to use this is via the “Coordinate transformation tool” on the OS GPS website (http://www.ordnancesurvey.co.uk/gps/transformation/). Use this to get exact National Grid coordinates for Points A, B and C (in this module don’t worry about the small differences between ETRS89 and WGS-84). \n",
    "\n",
    "Ipnut the east/north coordinates obtained from the online tool below:\n",
    "\n",
    "👇 ✍🏻"
   ]
  },
  {
   "cell_type": "code",
   "execution_count": null,
   "id": "3f92bf7a",
   "metadata": {},
   "outputs": [],
   "source": [
    "easting_A_tool  = ...\n",
    "northing_A_tool = ...\n",
    "h_A_tool        = ...\n",
    "\n",
    "easting_B_tool  = ...\n",
    "northing_B_tool = ...\n",
    "h_B_tool        = ...\n",
    "\n",
    "easting_C_tool  = ...\n",
    "northing_C_tool = ...\n",
    "h_C_tool        = ..."
   ]
  },
  {
   "cell_type": "markdown",
   "id": "bf914040",
   "metadata": {},
   "source": [
    "### Step 1: Calculate the differences in OSGB36 coords (“absolute” i.e. Part 3 minus Part 1):\n",
    "\n",
    "\n",
    "Differences $\\delta A$\n",
    "\n",
    "👇 ✍🏻"
   ]
  },
  {
   "cell_type": "code",
   "execution_count": null,
   "id": "cfe01de9",
   "metadata": {},
   "outputs": [],
   "source": [
    "diff_E_abs_A = ...\n",
    "diff_N_abs_A = ...\n",
    "diff_h_abs_A = ..."
   ]
  },
  {
   "cell_type": "markdown",
   "id": "b4aa226e",
   "metadata": {},
   "source": [
    "Differences $\\delta B$\n",
    "\n",
    "👇 ✍🏻"
   ]
  },
  {
   "cell_type": "code",
   "execution_count": null,
   "id": "5862b271",
   "metadata": {},
   "outputs": [],
   "source": [
    "diff_E_abs_B = ...\n",
    "diff_N_abs_B = ...\n",
    "diff_h_abs_B = ..."
   ]
  },
  {
   "cell_type": "markdown",
   "id": "b5df3b94",
   "metadata": {},
   "source": [
    "Differences $\\delta C$\n",
    "\n",
    "👇 ✍🏻"
   ]
  },
  {
   "cell_type": "code",
   "execution_count": null,
   "id": "57feab45",
   "metadata": {},
   "outputs": [],
   "source": [
    "diff_E_abs_C = ...\n",
    "diff_N_abs_C = ...\n",
    "diff_h_abs_C = ..."
   ]
  },
  {
   "cell_type": "code",
   "execution_count": null,
   "id": "83b376b0",
   "metadata": {},
   "outputs": [],
   "source": [
    "# DO NOT MODIFY THIS CELL\n",
    "display.print_xyz(diff_E_abs_A,diff_N_abs_A,diff_h_abs_A,\"Differences in OSGB36 coords (“absolute”), A:\",type=\"dif\")\n",
    "display.print_xyz(diff_E_abs_B,diff_N_abs_B,diff_h_abs_B,\"Differences in OSGB36 coords (“absolute”), B:\",type=\"dif\")\n",
    "display.print_xyz(diff_E_abs_C,diff_N_abs_C,diff_h_abs_C,\"Differences in OSGB36 coords (“absolute”), C:\",type=\"dif\")"
   ]
  },
  {
   "cell_type": "markdown",
   "id": "14a457e2",
   "metadata": {},
   "source": [
    "### Step 2: Calculate the relative coordinates (the baselines joining Point A to Points B and C)  \n",
    "\n",
    "“absolute” i.e. Part 3 minus Part 1:\n",
    "\n",
    "First, the OSGB36 baselines (from the online tool) (baselines A→B = B-A and A→C = C-A)\n",
    "\n",
    "Baseline vector $\\Delta AB$\n",
    "\n",
    "👇 ✍🏻\n"
   ]
  },
  {
   "cell_type": "code",
   "execution_count": null,
   "id": "312585a1",
   "metadata": {},
   "outputs": [],
   "source": [
    "Delta_easting_AB_rel = ...\n",
    "Delta_northing_AB_rel = ...\n",
    "Delta_h_AB_rel = ..."
   ]
  },
  {
   "cell_type": "markdown",
   "id": "1215bf58",
   "metadata": {},
   "source": [
    "Baseline vector $\\Delta AC$\n",
    "\n",
    "👇 ✍🏻"
   ]
  },
  {
   "cell_type": "code",
   "execution_count": null,
   "id": "09ce4d2b",
   "metadata": {},
   "outputs": [],
   "source": [
    "Delta_easting_AC_rel = ...\n",
    "Delta_northing_AC_rel = ...\n",
    "Delta_h_AC_rel = ..."
   ]
  },
  {
   "cell_type": "code",
   "execution_count": null,
   "id": "f3cb0b13",
   "metadata": {},
   "outputs": [],
   "source": [
    "display.print_xyz(Delta_easting_AC_rel,Delta_northing_AC_rel,Delta_h_AC_rel,\"Relative OSGB36 coords baseline A→C:\",type=\"ba\")"
   ]
  },
  {
   "cell_type": "markdown",
   "id": "a4b3f2d9",
   "metadata": {},
   "source": [
    "Now the baseline differences $d\\Delta E$ and $d\\Delta N$ in baselines (Differences between Parts 1 and 3 )\n",
    "\n",
    "$d\\Delta AB (E,N)$\n",
    "\n",
    "👇 ✍🏻"
   ]
  },
  {
   "cell_type": "code",
   "execution_count": null,
   "id": "d05c5002",
   "metadata": {},
   "outputs": [],
   "source": [
    "diff_easting_AB = ...\n",
    "diff_northing_AB = ...\n",
    "diff_h_AB = ..."
   ]
  },
  {
   "cell_type": "code",
   "execution_count": null,
   "id": "a2bb326a",
   "metadata": {},
   "outputs": [],
   "source": [
    "display.print_xyz(diff_easting_AB,diff_northing_AB,diff_h_AB,\"Relative OSGB36 coords baseline A→B:\",type=\"dif\")"
   ]
  },
  {
   "cell_type": "markdown",
   "id": "c49c3a4c",
   "metadata": {},
   "source": [
    "$d\\Delta AC (E,N)$\n",
    "\n",
    "👇 ✍🏻"
   ]
  },
  {
   "cell_type": "code",
   "execution_count": null,
   "id": "7b1514e1",
   "metadata": {},
   "outputs": [],
   "source": [
    "diff_easting_AC = ...\n",
    "diff_northing_AC = ...\n",
    "diff_h_AC = ..."
   ]
  },
  {
   "cell_type": "code",
   "execution_count": null,
   "id": "63b4a809",
   "metadata": {},
   "outputs": [],
   "source": [
    "display.print_xyz(diff_easting_AC,diff_northing_AC,diff_h_AC,\"Relative OSGB36 coords baseline A→C:\",type=\"dif\")"
   ]
  },
  {
   "cell_type": "markdown",
   "id": "f0e16bd1",
   "metadata": {},
   "source": [
    "\n",
    ">Comment on the size of the differences in absolute coordinates (actual E, N, h of Points A, B and C separately) and relative coordinates (the baselines joining Point A to >Points B and C) compared with your answers from Parts 1 and 2.  Compare your answers with the precision of various GNSS techniques that you have learned about in this module.\n"
   ]
  },
  {
   "cell_type": "markdown",
   "id": "a5f1a631",
   "metadata": {},
   "source": [
    "✏️ **Your answer here**\n",
    "\n",
    "...\n",
    "\n",
    "...\n",
    "\n",
    "...\n",
    "\n",
    "...\n",
    "\n"
   ]
  },
  {
   "cell_type": "markdown",
   "id": "7b16c0b6",
   "metadata": {},
   "source": [
    "🎉🎉🎉🎉 The END\n",
    "\n",
    "\n",
    "This practical forms part of the assessed coursework and is worth up to 5\\% of the total CEG1705/CEG2719 module mark. 💎💎💎💎💎\n",
    "\n",
    "\n",
    "Share your work via canvas Practical 3 submission page."
   ]
  }
 ],
 "metadata": {
  "kernelspec": {
   "display_name": "Python 3 (ipykernel)",
   "language": "python",
   "name": "python3"
  },
  "language_info": {
   "codemirror_mode": {
    "name": "ipython",
    "version": 3
   },
   "file_extension": ".py",
   "mimetype": "text/x-python",
   "name": "python",
   "nbconvert_exporter": "python",
   "pygments_lexer": "ipython3",
   "version": "3.10.14"
  }
 },
 "nbformat": 4,
 "nbformat_minor": 5
}
