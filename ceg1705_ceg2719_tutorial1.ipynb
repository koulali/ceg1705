{
 "cells": [
  {
   "cell_type": "markdown",
   "id": "0b468aa5-5a87-4ef4-a1d6-c6bda5c04a68",
   "metadata": {},
   "source": [
    "![img](https://github.com/koulali/ceg1705/blob/main/ceg1705_logo_notebook.png?raw=true)\n",
    "\n",
    "#  Trigonometry Overview using python"
   ]
  },
  {
   "cell_type": "markdown",
   "id": "12f2cd12-90f8-453d-bbb0-ae1db6d13213",
   "metadata": {},
   "source": [
    "Google Colaboratory, or Colaboratory for short, is a cloud-based service provided by Google. It enables you to use Python programming language without installing it on your system. In this module, we will be using Google Colaboratory for all the practicals to perform computations without requiring a specific desktop setup. Your work will be automatically saved on Google Drive and can be shared using a URL link. The primary purpose of using Colab is to have text and computations in one place so that your work can be easily shared and replicated.\n",
    "\n",
    "In this tutorial, I will guide you through the basic usage of Python programming language and provide an introduction to Trigonometry to prepare you for Practical 1. We will cover variables and functions, giving you the minimum knowledge you need. If you need to develop your skills further, there are many free resources available online. One of the highly recommended sources is the [Microsoft online course](https://learn.microsoft.com/en-us/training/paths/beginner-python/) designed for beginners."
   ]
  },
  {
   "cell_type": "markdown",
   "id": "53fc094b-60ba-494b-93dc-880ff095315d",
   "metadata": {},
   "source": [
    "## Variables\n",
    "\n",
    "In Python, a variable is declared and assigned a value using the assignment operator `=`. The variable is on the left-hand side of the operator, and the value being assigned, which can be an expression such as `2 + 2` and can even include other variables(is on the right-hand side). For example:"
   ]
  },
  {
   "cell_type": "code",
   "execution_count": 5,
   "id": "f640dac0-fe88-4995-a433-61c5841857cd",
   "metadata": {},
   "outputs": [],
   "source": [
    "x = 1         \n",
    "y = x + 5     \n",
    "z = y         "
   ]
  },
  {
   "cell_type": "markdown",
   "id": "731d45ac-2984-4eae-9a37-00f60929f814",
   "metadata": {},
   "source": [
    "Lines starting with with a `#`, are called comments and Python will ignore them. Comments are used to explain code and make it more readable."
   ]
  },
  {
   "cell_type": "code",
   "execution_count": 4,
   "id": "9025bfba-1837-49fe-8403-f33c58419920",
   "metadata": {},
   "outputs": [],
   "source": [
    "# assign variable x the value 1\n",
    "x = 1         \n",
    "\n",
    "# assign variable y the value of x plus 5\n",
    "y = x + 5     \n",
    "\n",
    "# assign variable z the value of y\n",
    "z = y         "
   ]
  },
  {
   "cell_type": "markdown",
   "id": "ec29739a-1560-4970-b866-4ac803cdd416",
   "metadata": {},
   "source": [
    "Python supports several data types, and assigning numbers to variables is just one example. In Python, you don't need to declare the type of a variable because it's dynamically determined based on the data assigned to it. In this context, x, y, and z are integer variables that can store both positive and negative whole numbers. Variable names are case-sensitive and can use letters, numbers, and underscores (`_`), but they can't start with a number.\n",
    "\n",
    "## Print\n",
    "\n",
    "In Python, the `print` function, which is one of many functions built into the language, outputs text to the screen. The following statement displays \"Hello World!\" on the screen."
   ]
  },
  {
   "cell_type": "code",
   "execution_count": 2,
   "id": "6feefe42-7a21-445e-bfdc-be2da5ce48c0",
   "metadata": {},
   "outputs": [
    {
     "name": "stdout",
     "output_type": "stream",
     "text": [
      "Hello World!\n"
     ]
    }
   ],
   "source": [
    "print('Hello World!')"
   ]
  },
  {
   "cell_type": "code",
   "execution_count": 3,
   "id": "763547e8-b708-4502-a314-4c8385a8cc98",
   "metadata": {},
   "outputs": [
    {
     "name": "stdout",
     "output_type": "stream",
     "text": [
      "1\n"
     ]
    }
   ],
   "source": [
    "print(x)"
   ]
  },
  {
   "cell_type": "markdown",
   "id": "126f303d-92ca-4688-a9fc-e63c72514892",
   "metadata": {},
   "source": [
    "## Working with numbers\n",
    "\n",
    "Computers treat integer numbers and decimal numbers differently. Consider the following code:"
   ]
  },
  {
   "cell_type": "code",
   "execution_count": 6,
   "id": "30968c7f-6a0d-4e46-9988-6751a6282970",
   "metadata": {},
   "outputs": [],
   "source": [
    "# integer\n",
    "x = 1    \n",
    "\n",
    "# decimal (floating point)\n",
    "x = 1.0     "
   ]
  },
  {
   "cell_type": "markdown",
   "id": "79d283cc-c869-4bc6-bee8-2d19a5661215",
   "metadata": {},
   "source": [
    "Python creates integers from a built-in data type called int, and decimals (floating-point numbers) as instances of float. Python's built-in type() function returns a variable's data type. The following code outputs data types:"
   ]
  },
  {
   "cell_type": "code",
   "execution_count": 7,
   "id": "c6b984bb-d2eb-4571-bd4d-ca14430b23e9",
   "metadata": {},
   "outputs": [
    {
     "name": "stdout",
     "output_type": "stream",
     "text": [
      "<class 'int'>\n",
      "<class 'float'>\n"
     ]
    }
   ],
   "source": [
    "x = 1\n",
    "# outputs: <class 'int'>\n",
    "print(type(x)) \n",
    "\n",
    "x = 1.0\n",
    "# outputs: <class 'float'>\n",
    "print(type(x)) "
   ]
  },
  {
   "cell_type": "markdown",
   "id": "0af5857e-9a45-4a32-9590-b3df69662aae",
   "metadata": {},
   "source": [
    "## Working with strings\n",
    "\n",
    "Along with numbers, strings are among the most commonly used data types. A string is a collection of zero or more characters. Strings are commonly declared using single quotation marks, but you can also use double quotation marks:"
   ]
  },
  {
   "cell_type": "code",
   "execution_count": 8,
   "id": "677dcd71-c6f5-429f-9da5-282771c6d93f",
   "metadata": {},
   "outputs": [
    {
     "name": "stdout",
     "output_type": "stream",
     "text": [
      "This is a string\n",
      "<class 'str'>\n"
     ]
    }
   ],
   "source": [
    "x = 'This is a string'\n",
    "\n",
    "# outputs: This is a string\n",
    "print(x) \n",
    "\n",
    "# outputs: <class 'str'>\n",
    "print(type(x))\n",
    "\n",
    "y = \"This is also a string\""
   ]
  },
  {
   "cell_type": "markdown",
   "id": "ad946834-91ad-4ca8-858f-fb585653b1f8",
   "metadata": {},
   "source": [
    "## Arithmetic operations\n",
    "\n",
    "A natural thing to want to do with numbers is perform arithmetic. We've seen the + operator for addition, and the * operator for multiplication. See the table below for all the supported operators.\n",
    "\n",
    "|Operator\t|Name\t|Description|\n",
    "|-----------|-------|-----------|\n",
    "|a + b\t|Addition\tSum of a and b|\n",
    "|a - b\t|Subtraction\tDifference of a and b|\n",
    "|a * b\t|Multiplication\tProduct of a and b|\n",
    "|a / b\t|True division\tQuotient of a and b|\n",
    "|a // b\t|Floor division\tQuotient of a and b, removing fractional parts|\n",
    "|a % b\t|Modulus\tInteger remainder after division of a by b|\n",
    "|a ** b\t|Exponentiation\ta raised to the power of b|\n",
    "|-a\t|Negation\tThe negative of a |\n",
    "\n",
    "Python has two types of division: \"True division\" and \"Floor division\". \"True division\" is similar to what your calculator does."
   ]
  },
  {
   "cell_type": "code",
   "execution_count": 9,
   "id": "ea1214f4-e7ea-4c8f-b873-1de7ffb8626a",
   "metadata": {},
   "outputs": [
    {
     "name": "stdout",
     "output_type": "stream",
     "text": [
      "2.5\n",
      "3.0\n"
     ]
    }
   ],
   "source": [
    "print(5 / 2)\n",
    "print(6 / 2)"
   ]
  },
  {
   "cell_type": "markdown",
   "id": "0c28e237-fd46-434f-a295-e9a982cb3eac",
   "metadata": {},
   "source": [
    "### Order of operations\n",
    "\n",
    "In primary school, we learned arithmetic with a set of conventions that dictate the order in which mathematical operations are evaluated. To help remember these conventions, some people use a mnemonic such as PEMDAS, which stands for Parentheses, Exponents, Multiplication/Division, and Addition/Subtraction. Similarly, Python follows a similar set of rules regarding the order in which calculations are performed, which are mostly intuitive."
   ]
  },
  {
   "cell_type": "code",
   "execution_count": 10,
   "id": "d07bb6da-550e-4e56-a9e8-6090c5a0842f",
   "metadata": {},
   "outputs": [
    {
     "data": {
      "text/plain": [
       "7"
      ]
     },
     "execution_count": 10,
     "metadata": {},
     "output_type": "execute_result"
    }
   ],
   "source": [
    "8 - 3 + 2"
   ]
  },
  {
   "cell_type": "code",
   "execution_count": 11,
   "id": "66a2e6f3-82be-4188-b714-68c9b2a20fe2",
   "metadata": {},
   "outputs": [
    {
     "data": {
      "text/plain": [
       "5"
      ]
     },
     "execution_count": 11,
     "metadata": {},
     "output_type": "execute_result"
    }
   ],
   "source": [
    "-3 + 4 * 2"
   ]
  },
  {
   "cell_type": "markdown",
   "id": "20ac8c5e-96cd-476e-a819-0668cdd304e8",
   "metadata": {},
   "source": [
    "Sometimes the default order of operations isn't what we want:"
   ]
  },
  {
   "cell_type": "code",
   "execution_count": 12,
   "id": "c17d6eaa-ce03-40a9-8382-8635638e5cb4",
   "metadata": {},
   "outputs": [
    {
     "name": "stdout",
     "output_type": "stream",
     "text": [
      "Height in meters = 26.9 ?\n"
     ]
    }
   ],
   "source": [
    "hat_height_cm = 25\n",
    "my_height_cm = 190\n",
    "# How tall am I, in meters, when wearing my hat?\n",
    "total_height_meters = hat_height_cm + my_height_cm / 100\n",
    "print(\"Height in meters =\", total_height_meters, \"?\")"
   ]
  },
  {
   "cell_type": "markdown",
   "id": "e7d4324e-314d-4b89-93af-9050afb1fe65",
   "metadata": {},
   "source": [
    "Parentheses are your trump card. You can add them to force Python to evaluate sub-expressions in a different order (or just to make your code easier to read)."
   ]
  },
  {
   "cell_type": "code",
   "execution_count": 13,
   "id": "0d4dac3d-7622-4f7f-9de6-516976fd0124",
   "metadata": {},
   "outputs": [
    {
     "name": "stdout",
     "output_type": "stream",
     "text": [
      "Height in meters = 2.15\n"
     ]
    }
   ],
   "source": [
    "total_height_meters = (hat_height_cm + my_height_cm) / 100\n",
    "print(\"Height in meters =\", total_height_meters)"
   ]
  },
  {
   "cell_type": "markdown",
   "id": "430e8ff5-93e2-42aa-8a5a-3bbab94bbb19",
   "metadata": {},
   "source": [
    "## Python functions\n",
    "\n",
    "A function is a set of code that performs any given task, enabling us to simplify programming tasks. All variables created in function definitions are local variables; they are known only to the function in which they are declared.\n",
    "\n",
    "In Python, you create a function by using the def keyword. Let’s look at an example of this.\n",
    "\n",
    "```\n",
    "Syntax: \n",
    "\n",
    "def name(arguments):\n",
    "\n",
    "  Statement\n",
    "\n",
    "  return value\n",
    "```\n",
    "\n",
    "\n",
    "An example of a function for adding two numbers:"
   ]
  },
  {
   "cell_type": "code",
   "execution_count": 15,
   "id": "3cbba1ea-8292-498b-89b0-a1b0ef1091cc",
   "metadata": {},
   "outputs": [],
   "source": [
    "def addition(number1,number2):\n",
    "    sum = number1 + number2\n",
    "    return sum"
   ]
  },
  {
   "cell_type": "markdown",
   "id": "d5fdb05d-7ea3-4063-a756-c98833143977",
   "metadata": {},
   "source": [
    "### Calling a Function\n",
    "\n",
    "In the above example, we have defined a function called addition(). However, running the code won't generate any output because defining a function doesn't execute the code inside it. It simply makes the code available for us to use later.\n",
    "To use this function, we need to call it. For instance, let's say we want to calculate the sum of 2 and 2 and store the result in a variable named g. We can achieve this by calling the addition() function and passing 2 and 2 as arguments. The function will then return the result of the calculation, which we can assign to the variable g."
   ]
  },
  {
   "cell_type": "code",
   "execution_count": 16,
   "id": "ba129dd4-62b5-4dc9-8ece-3d8a3dc0a865",
   "metadata": {},
   "outputs": [
    {
     "name": "stdout",
     "output_type": "stream",
     "text": [
      "4\n"
     ]
    }
   ],
   "source": [
    "g = addition(2,2)\n",
    "print(g)"
   ]
  },
  {
   "cell_type": "markdown",
   "id": "4b7248d5-f384-4690-96de-d51963c7e58f",
   "metadata": {},
   "source": [
    "## Modules\n",
    "\n",
    "The term \"module\" is frequently used in the context of Python. You can visualize the Python standard library as a physical library, where a package is equivalent to a book in the library, and a module is a chapter in a book. \n",
    "\n",
    "For instance, if you wish to use trigonometric functions like `cos` and `sin`, you can easily import them from the Numpy module. Numpy is a library that provides high-level mathematical functions. To import the `cos` function from Numpy, you can use the following code:"
   ]
  },
  {
   "cell_type": "code",
   "execution_count": 17,
   "id": "1badf35e-5111-4759-b75d-54ba8b2040c3",
   "metadata": {},
   "outputs": [],
   "source": [
    "from numpy import cos"
   ]
  },
  {
   "cell_type": "markdown",
   "id": "aa95be78-7131-4552-ab74-fc9259cae7be",
   "metadata": {},
   "source": [
    "I can also import multiple functions simultaneously, such as"
   ]
  },
  {
   "cell_type": "code",
   "execution_count": 18,
   "id": "74cfc863-b8a2-4acc-882b-7f31eb7cc3e9",
   "metadata": {},
   "outputs": [],
   "source": [
    "from numpy import cos,pi"
   ]
  },
  {
   "cell_type": "markdown",
   "id": "68f683a9-fef5-4827-8ef9-4b291d717fd8",
   "metadata": {},
   "source": [
    "An example of how to calculate the cos of 90 degrees:"
   ]
  },
  {
   "cell_type": "code",
   "execution_count": 21,
   "id": "b3ceedce-dcbb-4ee8-a58e-eee8f78426ac",
   "metadata": {},
   "outputs": [
    {
     "name": "stdout",
     "output_type": "stream",
     "text": [
      "6.123233995736766e-17\n"
     ]
    }
   ],
   "source": [
    "angle = 90\n",
    "\n",
    "# convert to radians\n",
    "angle_radians = 90*pi/180\n",
    "\n",
    "# calculate\n",
    "result = cos(angle_radians)\n",
    "\n",
    "print(result)"
   ]
  },
  {
   "cell_type": "markdown",
   "id": "35919e1d-8685-4aa9-ac0c-965613c6f781",
   "metadata": {},
   "source": [
    "##  Trigonometry Overview\n",
    "\n",
    "Trigonometric functions are often used in technical subjects such as engineering. Of particular importance is their use in land surveying and in measurements.\n",
    "The fundamental concept behind trigonometry is the angle. An angle is a measurement of the amount of rotation between two lines. Angles are commonly measured in degrees or radians.\n",
    "\n",
    "For now we will focus on understanding degrees, minutes and seconds. Angles work similar to the way our time system works. That is a degree (°) is divided into 60 minutes (') and a minute is divided into 60 seconds (\"). We can write this as DMS ° ' \". We can also express the DMS as a decimal\n",
    "\n",
    "\n",
    "\n",
    "### Example 1\n",
    "\n",
    "Lets work through a problem converting between DMS to decimal degrees:\n",
    "\n",
    "#### Convert the following: 28° 15' 23\"\n",
    "\n",
    "    To solve this problem we do not have to do anything with the degrees since they are a whole number.\n",
    "\n",
    "    - Next we need to convert 15'. To do this you start by dividing 15 by 60. Remember 1 degree has 60 minutes. So we get an answer of 0.25.\n",
    "\n",
    "    - Next we need to convert 23\" into degrees. To do this we first need to know how many seconds are in a degree. Remember there are 60 minutes in a degree and 60 seconds in each minute. So 60 x 60 will tell you how many seconds are in a degree. You should have gotten 3,600. So now we need to divide 23\" by 3,600. You should have gotten 0.00639.\n",
    "\n",
    "    Last we add up each part:\n",
    "\n",
    "    28 + 0.25 + 0.00639 = 28.2564°\n",
    "\n",
    "\n",
    "Now, solve this example using Python"
   ]
  },
  {
   "cell_type": "code",
   "execution_count": 22,
   "id": "68eba26a-41a9-4c69-b804-b71913ed5747",
   "metadata": {},
   "outputs": [
    {
     "name": "stdout",
     "output_type": "stream",
     "text": [
      "28.25638888888889\n"
     ]
    }
   ],
   "source": [
    "degrees = 28\n",
    "minutes = 15\n",
    "seconds = 23\n",
    "\n",
    "decimal_degrees=degrees+minutes/60+seconds/3600\n",
    "\n",
    "print(decimal_degrees)"
   ]
  },
  {
   "cell_type": "markdown",
   "id": "c19269cf-f16c-469b-9043-c30bfd4e0c25",
   "metadata": {},
   "source": [
    "We can print the result with 4 digits after a decimal separator using:"
   ]
  },
  {
   "cell_type": "code",
   "execution_count": 23,
   "id": "dda3d3f4-572b-4b86-96e6-fcd00c9eb122",
   "metadata": {},
   "outputs": [
    {
     "name": "stdout",
     "output_type": "stream",
     "text": [
      "28.2564\n"
     ]
    }
   ],
   "source": [
    "print(\"%.4f\"%decimal_degrees)"
   ]
  },
  {
   "cell_type": "markdown",
   "id": "714c71c0-2966-4660-95b5-99dc9803e293",
   "metadata": {},
   "source": [
    "### Example 2\n",
    "\n",
    "We discussed in the Lectures 2 and 3, that the most important thing to consider when using the arctangent is making sure to avoid the situations where the wrong result is returned after the division removes the sign information. Consider the following example with 2 points at (1,2) and (−1,−2). We would like get the angle $\\theta$.\n",
    "\n",
    "<img src=\"https://github.com/koulali/ceg1705/blob/main/tutorial_fig1.png?raw=true\" width=\"700\" />\n",
    "\n",
    "\n",
    "### Using `arctan`:\n",
    "The basic `arctan` function computes the angle of a point with respect to the x-axis using the formula:\n",
    "\n",
    "$$\n",
    "\\theta = \\text{arctan}\\left(\\frac{y}{x}\\right)\n",
    "$$\n",
    "\n",
    "#### For Point (1, 2):\n",
    "$$\n",
    "\\text{arctan}\\left(\\frac{2}{1}\\right) = \\text{arctan}(2)\n",
    "$$\n",
    "This will give an angle $\\theta_1$ in the first quadrant (since both x and y are positive). The value will be a positive angle, say $\\theta_1 = \\text{arctan}(2)$ (which is approximately $1.107 \\, \\text{radians}$).\n",
    "\n",
    "#### For Point (-1, -2):\n",
    "$$\n",
    "\\text{arctan}\\left(\\frac{-2}{-1}\\right) = \\text{arctan}(2)\n",
    "$$\n",
    "This also gives the angle $\\theta_2 = \\text{arctan}(2)$, which is the same value as for Point (1, 2). However, Point (-1, -2) lies in the third quadrant, not the first, so this is ambiguous and incorrect. The angle would be the same (approximately $1.107 \\, \\text{radians}$), but this does not distinguish that the point is in the third quadrant.\n",
    "\n",
    "### Using `arctan2`:\n",
    "Now, let's use the `arctan2(y, x)` function, which correctly takes into account both the signs of x and y to determine the correct quadrant.\n",
    "\n",
    "#### For Point (1, 2):\n",
    "$$\n",
    "\\text{arctan2}(2, 1) = \\theta_1\n",
    "$$\n",
    "This will return the correct angle in the first quadrant, which is around $ \\theta_1 = 1.107 \\, \\text{radians} $ (or approximately $63.4^\\circ$).\n",
    "\n",
    "#### For Point (-1, -2):\n",
    "$$\n",
    "\\text{arctan2}(-2, -1) = \\theta_2\n",
    "$$\n",
    "Here, `arctan2` correctly identifies that the point is in the third quadrant, and it will return an angle of approximately $\\theta_2 = -2.034 \\, \\text{radians}$ (or approximately $-116.6^\\circ$).\n",
    "\n",
    "### Summary:\n",
    "- **Using `arctan(y/x)`**, both points give the same angle (around $1.107$ radians), which is incorrect because the points lie in different quadrants.\n",
    "- **Using `arctan2(y, x)`**, Point (1, 2) returns an angle of about $1.107$ radians (in the first quadrant), and Point (-1, -2) returns an angle of about $-2.034$ radians (in the third quadrant), which correctly reflects the positions of the points.\n",
    "\n",
    "So, `arctan2` solves the ambiguity between the first and third quadrants, giving accurate results based on both the x and y signs."
   ]
  },
  {
   "cell_type": "code",
   "execution_count": 1,
   "id": "e2fc2e69-0d95-4593-bb77-d0bb5d638d78",
   "metadata": {},
   "outputs": [],
   "source": [
    "from numpy import arctan2, rad2deg"
   ]
  },
  {
   "cell_type": "code",
   "execution_count": 2,
   "id": "51c7296f-13e4-4cbd-86f6-ec53c10df71b",
   "metadata": {},
   "outputs": [
    {
     "name": "stdout",
     "output_type": "stream",
     "text": [
      "63.43494882292201\n"
     ]
    }
   ],
   "source": [
    "theta = arctan2(2,1)\n",
    "theta_degrees = rad2deg(theta)\n",
    "print(theta_degrees)"
   ]
  },
  {
   "cell_type": "markdown",
   "id": "475125a0-ff53-4a1e-a4e7-71dd5595623c",
   "metadata": {},
   "source": [
    "Now, if we use the angle displayed in cyan spaning quadrants 3 and 4."
   ]
  },
  {
   "cell_type": "code",
   "execution_count": 3,
   "id": "99c13284-a015-42d9-82b9-e540cf0ab5f3",
   "metadata": {},
   "outputs": [
    {
     "name": "stdout",
     "output_type": "stream",
     "text": [
      "-116.56505117707799\n"
     ]
    }
   ],
   "source": [
    "theta = arctan2(-2,-1)\n",
    "theta_degrees = rad2deg(theta)\n",
    "print(theta_degrees)"
   ]
  },
  {
   "cell_type": "markdown",
   "id": "3926991a-41b5-4374-b763-249d24aecdbc",
   "metadata": {},
   "source": [
    "Try to apply the arctangent function and compare your results with the above."
   ]
  },
  {
   "cell_type": "code",
   "execution_count": null,
   "id": "a35fad39-6305-4f6f-b732-0e66d250145b",
   "metadata": {},
   "outputs": [],
   "source": []
  }
 ],
 "metadata": {
  "kernelspec": {
   "display_name": "Python 3 (ipykernel)",
   "language": "python",
   "name": "python3"
  },
  "language_info": {
   "codemirror_mode": {
    "name": "ipython",
    "version": 3
   },
   "file_extension": ".py",
   "mimetype": "text/x-python",
   "name": "python",
   "nbconvert_exporter": "python",
   "pygments_lexer": "ipython3",
   "version": "3.12.8"
  }
 },
 "nbformat": 4,
 "nbformat_minor": 5
}
