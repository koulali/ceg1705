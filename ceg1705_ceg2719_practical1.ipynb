{
 "cells": [
  {
   "cell_type": "markdown",
   "id": "d83a0d18",
   "metadata": {},
   "source": [
    "![img](https://github.com/koulali/ceg1705/blob/main/ceg1705_logo_notebook.png?raw=true)\n",
    "\n",
    "# Practical 1: Navigation using spherical coordinates and Ellipsoidal <-> Cartesian coordinate conversion\n",
    "\n",
    "The purposes of this practical are (i) to use the great circle formulae for approximate bearings and distances (**Lecture 2 notes**) to navigate between points on a spherical Earth; and (ii) to gain experience in the conversion between ellipsoidal and Cartesian coordinates and the change of ellipsoidal parameters (**Lecture 3 notes**). \n",
    "\n",
    "We will be using a Jupyter notebook to perform the computations so that you can observe the process and the computational aspect of the knowledge gained during the Lecture sessions. You do not need any prior Python programming experience. Please refer to Tutorial 0 in Canvas for an introduction to basic calculations in Python.\n",
    "\n",
    "\n",
    ">There is no formal write-up for this practical. However, there is a mark for \"satisfactory completion\" 😉 which you can achieve by uploading your answers via Canvas. The instructions below will help you do the coordinates conversions.\n",
    "\n",
    "\n",
    "👇 Please, before you start run the following cell to load all the needed functions for this practical."
   ]
  },
  {
   "cell_type": "code",
   "execution_count": null,
   "id": "dcc57473-50b7-48cc-8a71-d73209cd0454",
   "metadata": {},
   "outputs": [],
   "source": [
    "# intall ceg1705 package\n",
    "!pip install pycegm"
   ]
  },
  {
   "cell_type": "code",
   "execution_count": null,
   "id": "0da2357b",
   "metadata": {},
   "outputs": [],
   "source": [
    "# DO NOT MODIFY THIS CELL\n",
    "from numpy import cos,sin,tan,arcsin,arccos,arctan2,radians,degrees,floor,pi,sqrt\n",
    "from pycegm.units import dms_to_decimal,decimal_to_dms"
   ]
  },
  {
   "cell_type": "markdown",
   "id": "3d5084c0",
   "metadata": {},
   "source": [
    "\n",
    "## Part 1: Computing bearings and distances for navigation on a spherical Earth\n",
    "\n",
    "\n",
    "In this part, you will use the spherical great circle formulae from Lecture 2 to compute distances, bearings and coordinates on the sphere.  The two classic problems are as follows:\n",
    "\n",
    "<img src=\"https://github.com/koulali/ceg1705/blob/main/prac1_fig1.png?raw=true\" width=\"300\" height=\"300\" />\n",
    "\n",
    "**(a)Forward problem**: given the position of one point *(A)* and the forward bearing $\\alpha_{AB}$ and distance *L* to a second point *(B)*, find the position of *B*.\n",
    "\n",
    "**(b)Reverse problem**:  given the positions of two points *(A and B)*, find the distance *L* and the forward bearing $\\alpha_{AB}$ and back bearing $\\alpha_{BA}$ between them. \n",
    "\n",
    "You will be posed a forward problem. After solving it, you should use the result to pose the reverse problem. The solution to the reverse problem will act as a check on both computations.\n",
    "\n",
    "Assume an Earth radius of **6371 km**.  Note that these spherical calculations are quite approximate in relation to the real Earth, so are only good for navigation. For any kind of precise surveying work you should use the corresponding ellipsoidal formulae which will be described fully in module CEG2707.\n",
    "\n",
    "\n",
    "\n",
    "\n",
    "> Note: the emoji 👇 ✍🏻 , means that you have to input your answer in the cell below ( replace the three dots ... with your input)\n",
    "\n"
   ]
  },
  {
   "cell_type": "markdown",
   "id": "1af2fb57",
   "metadata": {},
   "source": [
    "### Part 1.a Forward Problem\n",
    "\n",
    "\n",
    "> Given the position of one point (A) and the forward bearing $\\alpha_{AB}$ and distance *L* to a second point *(B)*, find the position of *B*.\n",
    ">\n",
    "> * The starting position (Point A) is given by\n",
    ">\n",
    ">    - Latitude\t$\\phi_{A}\\ N52^{\\circ}01'17.1\"$\n",
    ">    \n",
    ">\t  - Longitude\t$\\lambda_{A}\\ E01^{\\circ}14'59.4\"$\n",
    ">\n",
    "> * The azimuth $\\alpha_{AB}$ is $290^{\\circ}12'44\"$ and the distance _L_ is 180.35 km.\n",
    "\n",
    "\n",
    "\n",
    "Lets do it step by step:\n",
    "\n",
    "\n",
    "#### **Part 1.a - Step 1: Input the forward problem paramters**\n",
    "\n",
    "Below we assign values to the parameters of the forward problem\n",
    "\n",
    "👇 ✍🏻 Input below"
   ]
  },
  {
   "cell_type": "code",
   "execution_count": null,
   "id": "8df42acf",
   "metadata": {},
   "outputs": [],
   "source": [
    "# we define the Earth radius in kilometers\n",
    "R = ...\n",
    "\n",
    "# we define the A point's coordinates \n",
    "phi_A= {\n",
    "    'deg' : ...,\n",
    "    'min' : ...,\n",
    "    'sec' : ...,\n",
    "    'dir' : \"...\"\n",
    "}\n",
    "\n",
    "lambda_A = {\n",
    "    'deg' : ...,\n",
    "    'min' : ...,\n",
    "    'sec' : ...,\n",
    "    'dir' : \"...\"\n",
    "}\n",
    "\n",
    "\n",
    "# we define the bearing A->B\n",
    "alpha_AB = {\n",
    "    'deg' : ...,\n",
    "    'min' : ...,\n",
    "    'sec' : ...,\n",
    "    'dir' : None\n",
    "}\n",
    "\n",
    "# we define the distance L in kilometers\n",
    "L = ..."
   ]
  },
  {
   "cell_type": "markdown",
   "id": "9727c4ee",
   "metadata": {},
   "source": [
    "\n",
    "#### **Part 1.a - Step 2: Convert coordinates from degrees,minutes,seconds to decimal degrees**\n",
    "\n",
    "\n",
    "Using the function `dms_to_decimal` to convert the **latitude** and **longitude** of point A to decimal degrees. Similarily convert the azimuth $\\alpha_{AB}$\n",
    "\n",
    "\n",
    "Example:\n",
    "    \n",
    " Latitude_A_decimal = dms_to_decimal(Latitude_A_degrees)"
   ]
  },
  {
   "cell_type": "code",
   "execution_count": null,
   "id": "3b91021d",
   "metadata": {},
   "outputs": [],
   "source": [
    "# we convert Latitude A to decimal\n",
    "phi_A_decimal = ...\n",
    "\n",
    "\n",
    "# we convert Longitude A to decimal\n",
    "lambda_A_decimal = ...\n",
    "\n",
    "\n",
    "# we convert the Azimuth AB\n",
    "alpha_AB_decimal = ..."
   ]
  },
  {
   "cell_type": "code",
   "execution_count": null,
   "id": "3e1435ad",
   "metadata": {},
   "outputs": [],
   "source": [
    "print(\"The A latitude in decimal degrees is  :\",phi_A_decimal)\n",
    "print(\"The A longitude in decimal degrees is :\",lambda_A_decimal)\n",
    "print(\"The azimuth AB in decimal degrees is  :\",alpha_AB_decimal)"
   ]
  },
  {
   "cell_type": "markdown",
   "id": "b7f403be",
   "metadata": {},
   "source": [
    "\n",
    "#### **Part 1.a - Step 3: Compute the radian equivalent of the latitude/longitude and azimuth in decimal degrees**\n",
    "\n",
    "\n",
    "We use the function `radians`\n",
    "\n",
    "Example:\n",
    "\n",
    "    Latidude_A_radians = radians(Latitude_A_decimal)\n",
    "    \n",
    "\n",
    "👇 ✍🏻 Input below"
   ]
  },
  {
   "cell_type": "code",
   "execution_count": null,
   "id": "06f3c827",
   "metadata": {},
   "outputs": [],
   "source": [
    "# we convert latitude to radians\n",
    "phi_A = ...\n",
    "\n",
    "# we convert longitude to radians\n",
    "lambda_A = ...\n",
    "\n",
    "# we convert azimuth to radians\n",
    "alpha_AB = ..."
   ]
  },
  {
   "cell_type": "markdown",
   "id": "d0948286",
   "metadata": {},
   "source": [
    "\n",
    "#### **Part 1.a - Step 4: Compute the radian angle $l$ equivalent to your surface distance L**\n",
    "\n",
    "\n",
    "Using the relationship you should have noted during Lecture 2, compute the radian angle equivalent to the surface distance\n",
    "\n",
    "\n",
    "👇 ✍🏻 Input below"
   ]
  },
  {
   "cell_type": "code",
   "execution_count": null,
   "id": "d50e00e6",
   "metadata": {},
   "outputs": [],
   "source": [
    " # we calculate the l distance [radian equivalent]\n",
    "l = ..."
   ]
  },
  {
   "cell_type": "code",
   "execution_count": null,
   "id": "eec91b1b",
   "metadata": {},
   "outputs": [],
   "source": [
    "print(\"The angle l in radians is\",l)"
   ]
  },
  {
   "cell_type": "markdown",
   "id": "b542ab85",
   "metadata": {},
   "source": [
    "\n",
    "#### **Part 1 - Step 5: Compute the latitude of point B**\n",
    "\n",
    "\n",
    "Compute the latitude $\\phi_{B}$ of point *B*, using the formula given in the notes. Use the functions `sin`, `cos` and `arcsin`, which compute the sine, cosine and inverse sine (arcsine) respectively of the radians value.\n",
    "\n",
    "\n",
    "👇 ✍🏻 Input below"
   ]
  },
  {
   "cell_type": "code",
   "execution_count": null,
   "id": "75899ee7",
   "metadata": {},
   "outputs": [],
   "source": [
    "# we compute the Latitude of B\n",
    "phi_B = ..."
   ]
  },
  {
   "cell_type": "code",
   "execution_count": null,
   "id": "07d994cc",
   "metadata": {},
   "outputs": [],
   "source": [
    "print(\"The latitude of point B in radians is\",phi_B)"
   ]
  },
  {
   "cell_type": "markdown",
   "id": "abdc3fe6",
   "metadata": {},
   "source": [
    "\n",
    "#### **Part 1.a - Step 6: Compute the longitude of point B**\n",
    "\n",
    "\n",
    "Similarly compute the longitude $\\lambda_B$ of point B. Rather than  atan(a), you should use the function atan2(a,b) which computes the inverse tangent (in radians) of fraction a/b, allowing correctly for the quadrant of the answer.\n",
    "\n",
    "\n",
    "👇 ✍🏻 Input below"
   ]
  },
  {
   "cell_type": "code",
   "execution_count": null,
   "id": "82a1c568",
   "metadata": {},
   "outputs": [],
   "source": [
    "# we compute the Longitude of B\n",
    "lambda_B = ..."
   ]
  },
  {
   "cell_type": "code",
   "execution_count": null,
   "id": "6bc9732a",
   "metadata": {},
   "outputs": [],
   "source": [
    "print(\"The longitude of point B in radians is\",lambda_B)"
   ]
  },
  {
   "cell_type": "markdown",
   "id": "3d3fa8cb",
   "metadata": {},
   "source": [
    "\n",
    "#### **Part 1.a - Step 7: Convert back Latiude and Longitude to decimal degrees**\n",
    "\n",
    "\n",
    "You simply use the following conversion:\n",
    "\n",
    "Latitude_B_decimal = degrees(Latitude_B_radians)\n",
    "\n",
    "Longitude_B_decimal = degrees(Longitude_B_radians)\n",
    "\n",
    "You should now have completed the forward problem.\n",
    "\n",
    "\n",
    "👇 ✍🏻 Input below"
   ]
  },
  {
   "cell_type": "code",
   "execution_count": null,
   "id": "c4932bfb",
   "metadata": {},
   "outputs": [],
   "source": [
    "phi_B_decimal = ...\n",
    "lambda_B_decimal = ..."
   ]
  },
  {
   "cell_type": "code",
   "execution_count": null,
   "id": "b866143b",
   "metadata": {},
   "outputs": [],
   "source": [
    "print(\"The latitude of point B in decimal degrees is\",phi_B_decimal)\n",
    "print(\"The longitude of point B in decimal degrees is\",lambda_B_decimal)"
   ]
  },
  {
   "cell_type": "markdown",
   "id": "3fe41b23",
   "metadata": {},
   "source": [
    "\n",
    "#### **Part 1.a - Step 8: Convert decimal degrees to degree-minutes-seconds format**\n",
    "\n",
    "\n",
    "Use the function `decimal_to_dms` \n",
    "\n",
    "Example :\n",
    "\n",
    "Latitude_degrees,Latitude_minutes,Latitude_seconds,Latitude_direction = decimal_to_dms(Latitude_decimal,\"latitude\")\n",
    "\n",
    "Similarily for the longitudes, just replace the key-workd \"latitude\" with \"longitude\" at the end of the line."
   ]
  },
  {
   "cell_type": "code",
   "execution_count": null,
   "id": "29c38eed",
   "metadata": {},
   "outputs": [],
   "source": [
    "# latitude\n",
    "phi_B_degrees,phi_B_minutes,phi_B_seconds,phi_B_direction = ...\n",
    "\n",
    "# longitude\n",
    "lambda_B_degrees,lambda_B_minutes,lambda_B_seconds,lambda_B_direction = ..."
   ]
  },
  {
   "cell_type": "code",
   "execution_count": null,
   "id": "c5cfe8e2",
   "metadata": {},
   "outputs": [],
   "source": [
    "print(\"Latitude B :\",phi_B_degrees,phi_B_minutes,phi_B_seconds,phi_B_direction)\n",
    "print(\"Longitude B :\",lambda_B_degrees,lambda_B_minutes,lambda_B_seconds,lambda_B_direction)"
   ]
  },
  {
   "cell_type": "markdown",
   "id": "4c018aea",
   "metadata": {},
   "source": [
    "### Part 1.b Reverse computations\n",
    "\n",
    "Now, we have the positions of two points *(A and B)*, find the distance *L* and the forward bearing $\\alpha_{AB}$ and back bearing $\\alpha_{BA}$ between them\n",
    "\n",
    "\n",
    "👇 ✍🏻 Input below"
   ]
  },
  {
   "cell_type": "code",
   "execution_count": null,
   "id": "55e52ac6-3227-43d4-97ae-9c1a4924daf1",
   "metadata": {},
   "outputs": [],
   "source": [
    "# printing the values in radians here\n",
    "print(\"Coordinates of A lat: %f ; lon:%f  [radians]\"%(phi_A,lambda_A))\n",
    "print(\"Coordinates of B lat: %f ; lon:%f  [radians]\"%(phi_B,lambda_B))"
   ]
  },
  {
   "cell_type": "code",
   "execution_count": null,
   "id": "daeabc95",
   "metadata": {},
   "outputs": [],
   "source": [
    "# Earth's radius\n",
    "R = ...\n",
    "\n",
    "# copy the input from part 1.a (in radians)\n",
    "phi_A = ...\n",
    "lambda_A = ...\n",
    "\n",
    "phi_B = ...\n",
    "lambda_B = ..."
   ]
  },
  {
   "cell_type": "markdown",
   "id": "ee88eb3e",
   "metadata": {},
   "source": [
    "\n",
    "#### **Part 1.b step 1 Calculate the distance**\n",
    "\n",
    "\n",
    "Calculate the dislance $L$ in radians using the formula introduced in Lecture 2 \n",
    "\n",
    "\n",
    "👇 ✍🏻 Input below"
   ]
  },
  {
   "cell_type": "code",
   "execution_count": null,
   "id": "fa7c5fb6",
   "metadata": {},
   "outputs": [],
   "source": [
    "# the distance l is \n",
    "l = ..."
   ]
  },
  {
   "cell_type": "code",
   "execution_count": null,
   "id": "3e617613",
   "metadata": {},
   "outputs": [],
   "source": [
    "print(\"the distance L in radians is:\",l)"
   ]
  },
  {
   "cell_type": "markdown",
   "id": "e6523438",
   "metadata": {},
   "source": [
    "Convert distance L to kilometers\n"
   ]
  },
  {
   "cell_type": "code",
   "execution_count": null,
   "id": "01f95b7c",
   "metadata": {},
   "outputs": [],
   "source": [
    "# convert to km\n",
    "L_AB = ..."
   ]
  },
  {
   "cell_type": "code",
   "execution_count": null,
   "id": "8c142b1d",
   "metadata": {},
   "outputs": [],
   "source": [
    "print(\"the dstance L in kilometers is :\",L_AB)"
   ]
  },
  {
   "cell_type": "markdown",
   "id": "7cc92795",
   "metadata": {},
   "source": [
    "\n",
    "#### **Part 1.b Step 2 Calculate the azimuth $\\alpha_{AB}$**\n",
    "\n",
    "\n",
    "Now, Lets calculate the bearing from A-> B $\\alpha_{AB}$\n",
    "\n",
    "\n",
    "👇 ✍🏻 Input below"
   ]
  },
  {
   "cell_type": "code",
   "execution_count": null,
   "id": "9f6ce135",
   "metadata": {},
   "outputs": [],
   "source": [
    "alpha_AB = ..."
   ]
  },
  {
   "cell_type": "markdown",
   "id": "a9c65758",
   "metadata": {},
   "source": [
    "Convert the azimuth to degrees\n",
    "\n",
    "\n",
    "👇 ✍🏻 Input below"
   ]
  },
  {
   "cell_type": "code",
   "execution_count": null,
   "id": "a1bda991",
   "metadata": {},
   "outputs": [],
   "source": [
    "alpha_AB_degrees = degrees(alpha_AB) % 360"
   ]
  },
  {
   "cell_type": "code",
   "execution_count": null,
   "id": "39683cf0",
   "metadata": {},
   "outputs": [],
   "source": [
    "print(\"The azimuth alpha AB in degrees is:\",alpha_AB_degrees)"
   ]
  },
  {
   "cell_type": "markdown",
   "id": "2117a0e1",
   "metadata": {},
   "source": [
    "\n",
    "#### **Part 1.b Step 3 Calculate the azimuth $\\alpha_{BA}$**\n",
    "\n",
    "Now, Let's calculate the bearing from B-> A $\\alpha_{BA}$. As we showed in Lecture 2, this requires the calculation of $\\delta$ first\n",
    "\n",
    "\n",
    "👇 ✍🏻 Input below"
   ]
  },
  {
   "cell_type": "code",
   "execution_count": null,
   "id": "a144d789",
   "metadata": {},
   "outputs": [],
   "source": [
    "delta = ..."
   ]
  },
  {
   "cell_type": "code",
   "execution_count": null,
   "id": "41b611bd",
   "metadata": {},
   "outputs": [],
   "source": [
    "print(\"delta in degrees:\",degrees(delta))"
   ]
  },
  {
   "cell_type": "code",
   "execution_count": null,
   "id": "735e5a6f",
   "metadata": {},
   "outputs": [],
   "source": [
    "alpha_BA = ..."
   ]
  },
  {
   "cell_type": "markdown",
   "id": "17abd45f",
   "metadata": {},
   "source": [
    "Convert $\\alpha_{BA}$ to degrees"
   ]
  },
  {
   "cell_type": "code",
   "execution_count": null,
   "id": "d9589887",
   "metadata": {},
   "outputs": [],
   "source": [
    "alpha_BA_degrees = ..."
   ]
  },
  {
   "cell_type": "code",
   "execution_count": null,
   "id": "32444d5d",
   "metadata": {},
   "outputs": [],
   "source": [
    "print(\"The azimuth alpha BA in degrees is:\",alpha_BA_degrees)"
   ]
  },
  {
   "cell_type": "markdown",
   "id": "17ab7b78",
   "metadata": {},
   "source": [
    "\n",
    "## Part 2: Ellipsoidal -> Cartesian coordinate conversion and change of ellipsoid\n",
    "\n",
    "\n",
    "\n",
    ">In this part, you will convert ellipsoidal coordinates to Cartesian (X,Y,Z). On this occasion, the initial coordinates are expressed using the Airy ellipsoid (a = >6377563.396 m, b = 6356256.910 m) as used by the Ordnance Survey of Great Britain (OSGB).  \n",
    ">\n",
    ">Use the following coordinates:\n",
    ">\n",
    "> - Latitude $\\phi:      N52^{\\circ}59'17.14295\"$\n",
    ">    \n",
    "> - Longitude $\\lambda:  E01^{\\circ}59'59.49908\"$\n",
    ">    \n",
    "> - Height $ h :         397.512 m$\n",
    "\n",
    "\n",
    "\n",
    "Work through the steps below using the values given above.\n",
    "\n",
    "### Part 2.a Ellipsoidal to Cartesian conversion\n",
    "\n",
    "\n",
    "> Part2.a Step 1 Enter the starting coordinates (using the Airy ellipsoid)\n",
    "\n",
    "👇 ✍🏻 Input below"
   ]
  },
  {
   "cell_type": "code",
   "execution_count": null,
   "id": "ebef89b8",
   "metadata": {},
   "outputs": [],
   "source": [
    "# we define the Earth radius in kilometers\n",
    "R = ...\n",
    "\n",
    "# we define the A point's coordinates latitude, longitude and height\n",
    "phi_A= {\n",
    "    'deg' : ...,\n",
    "    'min' : ...,\n",
    "    'sec' : ...,\n",
    "    'dir' : \"...\"\n",
    "}\n",
    "\n",
    "lambda_A = {\n",
    "    'deg' : ...,\n",
    "    'min' : ...,\n",
    "    'sec' : ...,\n",
    "    'dir' : \"...\"\n",
    "}\n",
    "\n",
    "\n",
    "\n",
    "# height in meters\n",
    "h = ... "
   ]
  },
  {
   "cell_type": "markdown",
   "id": "0db392b1",
   "metadata": {},
   "source": [
    "Enter the Airy ellipsoid parameters a and b. \n",
    "\n",
    "👇 ✍🏻 "
   ]
  },
  {
   "cell_type": "code",
   "execution_count": null,
   "id": "b78dc500",
   "metadata": {},
   "outputs": [],
   "source": [
    "a = ...\n",
    "b = ..."
   ]
  },
  {
   "cell_type": "markdown",
   "id": "f06367cd",
   "metadata": {},
   "source": [
    "\n",
    "#### **Part 2.a - Step 2: Convert coordinates from degrees,minutes,seconds to decimal degrees**\n",
    "\n",
    "\n",
    "Using the function `dms_to_decimal` to convert the **latitude** and **longitude** of point A to decimal degrees. Similarily convert the azimuth $\\alpha_{AB}$\n",
    "\n",
    "Example:\n",
    "    \n",
    " Latitude_A_decimal = dms_to_decimal(phi_A)\n"
   ]
  },
  {
   "cell_type": "code",
   "execution_count": null,
   "id": "71c8a064",
   "metadata": {},
   "outputs": [],
   "source": [
    "# we convert Latitude A to decimal\n",
    "phi_A_decimal = ...\n",
    "\n",
    "\n",
    "# we convert Longitude A to decimal\n",
    "lambda_A_decimal = ..."
   ]
  },
  {
   "cell_type": "code",
   "execution_count": null,
   "id": "83713a5a",
   "metadata": {},
   "outputs": [],
   "source": [
    "print(\"The A latitude in decimal degrees is  :\",phi_A_decimal)\n",
    "print(\"The A longitude in decimal degrees is :\",lambda_A_decimal)"
   ]
  },
  {
   "cell_type": "markdown",
   "id": "add8edcc",
   "metadata": {},
   "source": [
    "\n",
    "#### **Part 2.a - Step 3: Compute the radian equivalent of the latitude/longitude**\n",
    "\n",
    "\n",
    "We use the function `radians`\n",
    "\n",
    "Example:\n",
    "\n",
    "    Latidude_A_radians = radians(Latitude_A_decimal)\n",
    "    \n",
    "\n",
    "👇 ✍🏻 Input below"
   ]
  },
  {
   "cell_type": "code",
   "execution_count": null,
   "id": "38d510b6",
   "metadata": {},
   "outputs": [],
   "source": [
    "# we convert latitude to radians\n",
    "phi_A = ...\n",
    "\n",
    "# we convert longitude to radians\n",
    "lambda_A = ..."
   ]
  },
  {
   "cell_type": "code",
   "execution_count": null,
   "id": "60d10b33",
   "metadata": {},
   "outputs": [],
   "source": [
    "print(\"The A latitude in radians is  :\",phi_A)\n",
    "print(\"The A longitude in radians is :\",lambda_A)"
   ]
  },
  {
   "cell_type": "markdown",
   "id": "b4767f13",
   "metadata": {},
   "source": [
    "\n",
    "#### **Part 2.a Step 4 Compute the eccentricity squared $e^2$**\n",
    "\n",
    "\n",
    "compute $e^2$ from the values of a and b, using the formula given in the lecture notes. Be very careful with brackets, and remember that the operator “/” takes precedence over the operator “-” !\n",
    "\n",
    "\n",
    "👇 ✍🏻 Input below"
   ]
  },
  {
   "cell_type": "code",
   "execution_count": null,
   "id": "2c1b1d4f",
   "metadata": {},
   "outputs": [],
   "source": [
    "e_2 = ..."
   ]
  },
  {
   "cell_type": "code",
   "execution_count": null,
   "id": "07a3772b",
   "metadata": {},
   "outputs": [],
   "source": [
    "print(\"The eccentricity e2 is :\",e_2)"
   ]
  },
  {
   "cell_type": "markdown",
   "id": "03f4e2aa",
   "metadata": {},
   "source": [
    "\n",
    "#### **Part 2.a Step 5 the radius of curvature in the prime vertical**\n",
    "\n",
    "\n",
    "Now you can compute the radius of curvature in the prime vertical ($R_N$ or $\\nu$), using the expression given in your lecture notes.\n",
    "\n",
    "\n",
    "👇 ✍🏻 Input below"
   ]
  },
  {
   "cell_type": "code",
   "execution_count": null,
   "id": "57d945e3",
   "metadata": {},
   "outputs": [],
   "source": [
    "nu = ..."
   ]
  },
  {
   "cell_type": "code",
   "execution_count": null,
   "id": "5d235c8b",
   "metadata": {},
   "outputs": [],
   "source": [
    "print(\"The radius of curvature in the prime meridian is :\",nu)"
   ]
  },
  {
   "cell_type": "markdown",
   "id": "b2c8460f",
   "metadata": {},
   "source": [
    "\n",
    "#### **Part 2.a Step 6 Compute the XYZ**\n",
    "\n",
    "\n",
    "Finally you can enter the formulae to calculate the Cartesian coordinates XYZ\n",
    "\n",
    "\n",
    "👇 ✍🏻 Input below"
   ]
  },
  {
   "cell_type": "code",
   "execution_count": null,
   "id": "852101fa",
   "metadata": {},
   "outputs": [],
   "source": [
    "X = ...\n",
    "Y = ...\n",
    "Z = ..."
   ]
  },
  {
   "cell_type": "code",
   "execution_count": null,
   "id": "13a7485c",
   "metadata": {},
   "outputs": [],
   "source": [
    "print(\" X = \",X)\n",
    "print(\" Y = \",Y)\n",
    "print(\" Z = \",Z)"
   ]
  },
  {
   "cell_type": "markdown",
   "id": "c00fc8ed",
   "metadata": {},
   "source": [
    "Congratulations!  You should now have successfully obtained the Cartesian coordinates of your point.  Often you would need to do some other calculations before converting the coordinates back from Cartesian to ellipsoidal ones, but today we’ll just press on regardless."
   ]
  }
 ],
 "metadata": {
  "kernelspec": {
   "display_name": "Python 3 (ipykernel)",
   "language": "python",
   "name": "python3"
  },
  "language_info": {
   "codemirror_mode": {
    "name": "ipython",
    "version": 3
   },
   "file_extension": ".py",
   "mimetype": "text/x-python",
   "name": "python",
   "nbconvert_exporter": "python",
   "pygments_lexer": "ipython3",
   "version": "3.12.8"
  }
 },
 "nbformat": 4,
 "nbformat_minor": 5
}
